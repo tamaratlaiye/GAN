{
  "nbformat": 4,
  "nbformat_minor": 0,
  "metadata": {
    "colab": {
      "provenance": [],
      "machine_shape": "hm"
    },
    "kernelspec": {
      "name": "python3",
      "display_name": "Python 3"
    },
    "language_info": {
      "name": "python"
    },
    "accelerator": "GPU",
    "gpuClass": "premium"
  },
  "cells": [
    {
      "cell_type": "markdown",
      "source": [
        "# Proyecto 2: GAN\n",
        "###Tamara Tlaiye Peredo\n",
        "###166912\n",
        "\n"
      ],
      "metadata": {
        "id": "vz46UB94mNUj"
      }
    },
    {
      "cell_type": "code",
      "execution_count": 10,
      "metadata": {
        "id": "429nlUFCVKcd"
      },
      "outputs": [],
      "source": [
        "#importamos librerias\n",
        "import numpy as np\n",
        "import pandas as pd\n",
        "import matplotlib.pyplot as plt\n",
        "import gdown\n",
        "#import time\n",
        "\n",
        "#tensorflow\n",
        "import tensorflow as tf\n",
        "from tensorflow import keras\n",
        "from tensorflow.keras import layers\n"
      ]
    },
    {
      "cell_type": "code",
      "source": [
        "#zip\n",
        "import os\n",
        "from zipfile import ZipFile\n",
        "\n",
        "#base de datos\n",
        "if not os.path.exists(\"celeba_gan\"):\n",
        "    os.makedirs(\"celeba_gan\")\n",
        "\n",
        "\n",
        "#link de donde lo sacamos\n",
        "link = \"https://drive.google.com/uc?id=1O7m1010EJjLE5QxLZiM9Fpjs7Oj6e684\"\n",
        "output = \"celeba_gan/data.zip\"\n",
        "gdown.download(link, output, quiet=True)\n",
        "\n",
        "#quitamos zip\n",
        "with ZipFile(\"celeba_gan/data.zip\", \"r\") as zipobj:\n",
        "    zipobj.extractall(\"celeba_gan\")"
      ],
      "metadata": {
        "id": "K2l24WtRVOD9"
      },
      "execution_count": 12,
      "outputs": []
    },
    {
      "cell_type": "code",
      "source": [
        "#!mkdir data_faces && wget https://s3-us-west-1.amazonaws.com/udacity-dlnfd/datasets/celeba.zip\n",
        "\n",
        "#import zipfile\n",
        "#with zipfile.ZipFile(\"celeba.zip\",\"r\") as zip_ref:\n",
        "  #zip_ref.extractall(\"data_faces/\")"
      ],
      "metadata": {
        "id": "IS541p6ao7kY"
      },
      "execution_count": null,
      "outputs": []
    },
    {
      "cell_type": "code",
      "source": [
        "#dataset\n",
        "datas = keras.utils.image_dataset_from_directory(\n",
        "    \"celeba_gan\", label_mode=None, image_size=(64, 64), batch_size=32 #fotos de 64,64\n",
        ")\n",
        "datas = datas.map(lambda x: x / 255.0)"
      ],
      "metadata": {
        "id": "TpV2yDc2VUdW"
      },
      "execution_count": null,
      "outputs": []
    },
    {
      "cell_type": "markdown",
      "source": [
        "Podemos ver que tenemos 202,599 archivos que pertenecen a una clase (en este caso son JPG). "
      ],
      "metadata": {
        "id": "uHms_lLlmVib"
      }
    },
    {
      "cell_type": "code",
      "source": [
        "#imrpimimos imagen de la dataset\n",
        "for x in datas:\n",
        "    plt.axis(\"off\")\n",
        "    plt.imshow((x.numpy() * 255).astype(\"int32\")[0])\n",
        "    break"
      ],
      "metadata": {
        "id": "zkWAxNreVVXX"
      },
      "execution_count": null,
      "outputs": []
    },
    {
      "cell_type": "code",
      "source": [
        "#discriminator \n",
        "#red neuronal layers\n",
        "disc = keras.Sequential(\n",
        "    [\n",
        "        keras.Input(shape=(64, 64, 3)),\n",
        "        layers.Conv2D(64, kernel_size=4, strides=2, padding=\"same\"),\n",
        "        layers.LeakyReLU(alpha=0.2),\n",
        "        layers.Conv2D(128, kernel_size=4, strides=2, padding=\"same\"),\n",
        "        layers.LeakyReLU(alpha=0.2),\n",
        "        layers.Conv2D(128, kernel_size=4, strides=2, padding=\"same\"),\n",
        "        layers.LeakyReLU(alpha=0.2),\n",
        "        layers.Flatten(),\n",
        "        layers.Dropout(0.2),\n",
        "        layers.Dense(1, activation=\"sigmoid\"),\n",
        "    ],\n",
        "    name=\"Discriminator\",\n",
        ")\n"
      ],
      "metadata": {
        "id": "a-S7K0RgVYMX"
      },
      "execution_count": null,
      "outputs": []
    },
    {
      "cell_type": "code",
      "source": [
        "#repetimos con generator\n",
        "latent_dim = 128\n",
        "\n",
        "#gen\n",
        "gen = keras.Sequential(\n",
        "    [\n",
        "        keras.Input(shape=(latent_dim,)),\n",
        "        layers.Dense(8 * 8 * 128),\n",
        "        layers.Reshape((8, 8, 128)),\n",
        "        layers.Conv2DTranspose(128, kernel_size=4, strides=2, padding=\"same\"),\n",
        "        layers.LeakyReLU(alpha=0.2),\n",
        "        layers.Conv2DTranspose(256, kernel_size=4, strides=2, padding=\"same\"),\n",
        "        layers.LeakyReLU(alpha=0.2),\n",
        "        layers.Conv2DTranspose(512, kernel_size=4, strides=2, padding=\"same\"),\n",
        "        layers.LeakyReLU(alpha=0.2),\n",
        "        layers.Conv2D(3, kernel_size=5, padding=\"same\", activation=\"sigmoid\"),\n",
        "    ],\n",
        "    name=\"Generator\",\n",
        ")\n"
      ],
      "metadata": {
        "id": "AuFhkz2DVcbG"
      },
      "execution_count": null,
      "outputs": []
    },
    {
      "cell_type": "code",
      "source": [
        "#clase GAN\n",
        "class GAN(keras.Model):\n",
        "\n",
        "    #funcion init\n",
        "    def __init__(self, disc, gen, latent_dim):\n",
        "        super().__init__()\n",
        "        self.disc = disc\n",
        "        self.gen = gen\n",
        "        self.latent_dim = latent_dim\n",
        "\n",
        "    #funcion compile\n",
        "    def compile(self, d_optimizer, g_optimizer, loss_fn):\n",
        "        super().compile()\n",
        "        self.d_optimizer = d_optimizer\n",
        "        self.g_optimizer = g_optimizer\n",
        "        self.loss_fn = loss_fn\n",
        "        self.d_loss_metric = keras.metrics.Mean(name=\"d_loss\")\n",
        "        self.g_loss_metric = keras.metrics.Mean(name=\"g_loss\")\n",
        "\n",
        "    @property\n",
        "    #funcin metrics\n",
        "    def metrics(self):\n",
        "        return [self.d_loss_metric, self.g_loss_metric]\n",
        "\n",
        "    #funcion train_step\n",
        "    def train_step(self, real_images):\n",
        "        #puntos aleatorios \n",
        "        batch_size = tf.shape(real_images)[0]\n",
        "        random_latent_vectors = tf.random.normal(shape=(batch_size, self.latent_dim))\n",
        "\n",
        "        #imagenes fakes\n",
        "        generated_images = self.gen(random_latent_vectors)\n",
        "\n",
        "        #combinamos\n",
        "        combined_images = tf.concat([generated_images, real_images], axis=0)\n",
        "\n",
        "        #real o fake\n",
        "        labels = tf.concat(\n",
        "            [tf.ones((batch_size, 1)), tf.zeros((batch_size, 1))], axis=0\n",
        "        )\n",
        "        # puntos aleatorios \n",
        "        labels += 0.05 * tf.random.uniform(tf.shape(labels))\n",
        "\n",
        "        #entrenamos el discriminator\n",
        "        with tf.GradientTape() as tape:\n",
        "            predictions = self.disc(combined_images)\n",
        "            d_loss = self.loss_fn(labels, predictions)\n",
        "        grads = tape.gradient(d_loss, self.disc.trainable_weights)\n",
        "        self.d_optimizer.apply_gradients(\n",
        "            zip(grads, self.disc.trainable_weights)\n",
        "        )\n",
        "\n",
        "        #puntos aleatorios \n",
        "        random_latent_vectors = tf.random.normal(shape=(batch_size, self.latent_dim))\n",
        "\n",
        "        #agregamos etiquetas \"todas las imágenes son reales\"\n",
        "        misleading_labels = tf.zeros((batch_size, 1))\n",
        "\n",
        "        #entrenamos el generator (sin actualizar los pesos del discriminator)\n",
        "        with tf.GradientTape() as tape:\n",
        "            predictions = self.disc(self.gen(random_latent_vectors))\n",
        "            g_loss = self.loss_fn(misleading_labels, predictions)\n",
        "        grads = tape.gradient(g_loss, self.gen.trainable_weights)\n",
        "        self.g_optimizer.apply_gradients(zip(grads, self.gen.trainable_weights))\n",
        "\n",
        "        #actualizamos las métricas\n",
        "        self.d_loss_metric.update_state(d_loss)\n",
        "        self.g_loss_metric.update_state(g_loss)\n",
        "        return {\n",
        "            \"d_loss\": self.d_loss_metric.result(),\n",
        "            \"g_loss\": self.g_loss_metric.result(),\n",
        "        }"
      ],
      "metadata": {
        "id": "QNA1qK0LVyza"
      },
      "execution_count": null,
      "outputs": []
    },
    {
      "cell_type": "code",
      "source": [
        "#clase GANMonitor\n",
        "class GANMonitor(keras.callbacks.Callback):\n",
        "    #funcion init\n",
        "    def __init__(self, num_img=3, latent_dim=128):\n",
        "        self.num_img = num_img\n",
        "        self.latent_dim = latent_dim\n",
        "        \n",
        "    #funcion onepoch\n",
        "    def on_epoch_end(self, epoch, logs=None):\n",
        "        random_latent_vectors = tf.random.normal(shape=(self.num_img, self.latent_dim))\n",
        "        generated_images = self.model.gen(random_latent_vectors)\n",
        "        generated_images *= 255\n",
        "        generated_images.numpy()\n",
        "        for i in range(self.num_img):\n",
        "            img = keras.preprocessing.image.array_to_img(generated_images[i])\n",
        "            img.save(\"generated_img_%03d_%d.png\" % (epoch, i))"
      ],
      "metadata": {
        "id": "z5kGSNJAV6-w"
      },
      "execution_count": null,
      "outputs": []
    },
    {
      "cell_type": "code",
      "source": [
        "#corremos\n",
        "epochs = 35\n",
        "\n",
        "gan = GAN(disc=disc, gen=gen, latent_dim=latent_dim)\n",
        "gan.compile(\n",
        "    d_optimizer=keras.optimizers.Adam(learning_rate=0.0001),\n",
        "    g_optimizer=keras.optimizers.Adam(learning_rate=0.0001),\n",
        "    loss_fn=keras.losses.BinaryCrossentropy(),\n",
        ")\n",
        "\n",
        "gan.fit(\n",
        "    datas, epochs=epochs, callbacks=[GANMonitor(num_img=10, latent_dim=latent_dim)]\n",
        ")"
      ],
      "metadata": {
        "id": "w8opDCooV-ug"
      },
      "execution_count": null,
      "outputs": []
    },
    {
      "cell_type": "code",
      "source": [],
      "metadata": {
        "id": "iP89nB6RMay0"
      },
      "execution_count": null,
      "outputs": []
    }
  ]
}